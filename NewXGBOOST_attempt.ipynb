{
 "cells": [
  {
   "cell_type": "code",
   "execution_count": 5,
   "metadata": {
    "collapsed": true,
    "deletable": true,
    "editable": true
   },
   "outputs": [],
   "source": [
    "import csv\n",
    "import datetime\n",
    "import random\n",
    "from operator import sub\n",
    "import numpy as np\n",
    "import pandas as pd\n",
    "import xgboost as xgb\n",
    "from sklearn import preprocessing, ensemble"
   ]
  },
  {
   "cell_type": "code",
   "execution_count": 6,
   "metadata": {
    "collapsed": true,
    "deletable": true,
    "editable": true
   },
   "outputs": [],
   "source": [
    "mapping_dict = {'Gender':{'male':0, 'female':1, 'no_gender':2},\n",
    "                'State':{'DELHI':0, 'WEST BENGAL':1, 'UTTAR PRADESH':2, 'MAHARASHTRA':3, 'TAMIL NADU':4, 'PUNJAB':5,\n",
    "                         'JHARKHAND':6, 'KARNATAKA':7, 'no_state':8, 'MADHYA PRADESH':9}}"
   ]
  },
  {
   "cell_type": "code",
   "execution_count": 7,
   "metadata": {
    "collapsed": true,
    "deletable": true,
    "editable": true
   },
   "outputs": [],
   "source": [
    "cat_cols = list(mapping_dict.keys())"
   ]
  },
  {
   "cell_type": "code",
   "execution_count": 8,
   "metadata": {
    "collapsed": true,
    "deletable": true,
    "editable": true
   },
   "outputs": [],
   "source": [
    "target_cols = ['108000707', '108005676', '108037568', '108100290', '108100294',\n",
    "       '108100306', '108100308', '108100352', '108100362', '108100382',\n",
    "       '300070102', '300111517', '300481673', '300776409', '300776410',\n",
    "       '300776411', '300781593', '300785148', '300785150', '300840018']"
   ]
  },
  {
   "cell_type": "code",
   "execution_count": 9,
   "metadata": {
    "collapsed": true,
    "deletable": true,
    "editable": true
   },
   "outputs": [],
   "source": [
    "def getTarget(row):\n",
    "    tlist = []\n",
    "    for col in target_cols:\n",
    "        if row[col].strip() in ['', 'NA']:\n",
    "            target = 0\n",
    "        else:\n",
    "            target = int(float(row[col]))\n",
    "        tlist.append(target)\n",
    "    return tlist"
   ]
  },
  {
   "cell_type": "code",
   "execution_count": 10,
   "metadata": {
    "collapsed": true,
    "deletable": true,
    "editable": true
   },
   "outputs": [],
   "source": [
    "def getIndex(row, col):\n",
    "    val = row[col].strip()\n",
    "    if val not in ['','NA']:\n",
    "        ind = mapping_dict[col][val]\n",
    "    else:\n",
    "        ind = mapping_dict[col][-99]\n",
    "    return ind"
   ]
  },
  {
   "cell_type": "code",
   "execution_count": 11,
   "metadata": {
    "collapsed": true,
    "deletable": true,
    "editable": true
   },
   "outputs": [],
   "source": [
    "def getMonth(row):\n",
    "    return int(row['transactionDate'].split('/')[0])"
   ]
  },
  {
   "cell_type": "code",
   "execution_count": 16,
   "metadata": {
    "collapsed": true,
    "deletable": true,
    "editable": true
   },
   "outputs": [],
   "source": [
    "def processDataMK(in_file_name, cust_dict, lag_cust_dict):\n",
    "    x_vars_list = []\n",
    "    y_vars_list = []\n",
    "    with open(in_file_name, 'r') as infile:\n",
    "        reader = csv.DictReader(infile)\n",
    "        for row in reader:\n",
    "            \n",
    "            if row['transactionDate'] not in ['4/28/2016', '5/28/2016', '6/28/2016', '4/28/2017', '5/28/2017', '6/28/2017']:\n",
    "                continue\n",
    "            #Leave out first month\n",
    "            cust_id = (row['customerID'])\n",
    "            if (row['transactionDate'] in ['4/28/2016', '4/28/2017'] ):\n",
    "                target_list = getTarget(row)\n",
    "                lag_cust_dict[cust_id] =  target_list[:]\n",
    "                continue\n",
    "\n",
    "            if (row['transactionDate'] in ['5/28/2016', '5/28/2016'] ):\n",
    "                target_list = getTarget(row)\n",
    "                cust_dict[cust_id] =  target_list[:]\n",
    "                continue\n",
    "\n",
    "            x_vars = []\n",
    "            for col in cat_cols:\n",
    "                x_vars.append( getIndex(row, col) )\n",
    "            sex = getIndex(row, 'Gender')\n",
    "            state = getIndex(row, 'State')\n",
    "            x_vars.append(getMonth(row))\n",
    "            #x_vars.append(getMarriageIndex(row, age, sex, income) )\n",
    "            if row['transactionDate'] == '6/28/2017':\n",
    "                prev_target_list = cust_dict.get(cust_id, [0]*20)\n",
    "                lag_target_list = lag_cust_dict.get(cust_id, [0]*20)\n",
    "                x_vars_list.append(x_vars + prev_target_list + lag_target_list)\n",
    "            elif row['transactionDate'] == '6/28/2016':\n",
    "                prev_target_list = cust_dict.get(cust_id, [0]*20)\n",
    "                lag_target_list = lag_cust_dict.get(cust_id, [0]*20)\n",
    "                target_list = getTarget(row)\n",
    "                new_products = [max(x1 - x2,0) for (x1, x2) in zip(target_list, prev_target_list)]\n",
    "                if sum(new_products) > 0:\n",
    "                    for ind, prod in enumerate(new_products):\n",
    "                        if prod>0:\n",
    "                            assert len(prev_target_list) == 20\n",
    "                            x_vars_list.append(x_vars+prev_target_list+lag_target_list)\n",
    "                            y_vars_list.append(ind)\n",
    "\n",
    "\n",
    "        return x_vars_list, y_vars_list, cust_dict, lag_cust_dict"
   ]
  },
  {
   "cell_type": "code",
   "execution_count": 17,
   "metadata": {
    "collapsed": true,
    "deletable": true,
    "editable": true
   },
   "outputs": [],
   "source": [
    "def processData(in_file_name, cust_dict):\n",
    "    x_vars_list = []\n",
    "    y_vars_list = []\n",
    "    for row in csv.DictReader(in_file_name):\n",
    "        # use only the four months as specified by breakfastpirate #\n",
    "        if row['transactionDate'] not in ['5/28/2016', '6/28/2016', '5/28/2017', '6/28/2017']:\n",
    "            continue\n",
    "\n",
    "        cust_id = int(row['customerID'])\n",
    "        if row['transactionDate'] in ['5/28/2016', '5/28/2017']:\n",
    "            target_list = getTarget(row)\n",
    "            cust_dict[cust_id] =  target_list[:]\n",
    "            continue\n",
    "        \n",
    "        x_vars = []\n",
    "        for col in cat_cols:\n",
    "            x_vars.append( getIndex(row, col) )\n",
    "        sex = getIndex(row, 'Gender')\n",
    "        state = getIndex(row, 'State')\n",
    "        #x_vars.append( getMarriageIndex(row, age, sex, income) )\n",
    "\n",
    "        if row['transactionDate'] == '6/28/2017':\n",
    "            prev_target_list = cust_dict.get(cust_id, [0]*20)\n",
    "            x_vars_list.append(x_vars + prev_target_list)\n",
    "        elif row['transactionDate'] == '6/28/2016':\n",
    "            prev_target_list = cust_dict.get(cust_id, [0]*20)\n",
    "            target_list = getTarget(row)\n",
    "            new_products = [max(x1 - x2,0) for (x1, x2) in zip(target_list, prev_target_list)]\n",
    "            if sum(new_products) > 0:\n",
    "                for ind, prod in enumerate(new_products):\n",
    "                    if prod>0:\n",
    "                        assert len(prev_target_list) == 20\n",
    "                        x_vars_list.append(x_vars+prev_target_list)\n",
    "                        y_vars_list.append(ind)\n",
    "\n",
    "    return x_vars_list, y_vars_list, cust_dict"
   ]
  },
  {
   "cell_type": "code",
   "execution_count": 34,
   "metadata": {
    "collapsed": true,
    "deletable": true,
    "editable": true
   },
   "outputs": [],
   "source": [
    "def runXGB(train_X, train_y, seed_val=42):\n",
    "    param = {}\n",
    "    param['objective'] = 'multi:softprob'\n",
    "    param['eta'] = 0.16\n",
    "    param['max_depth'] = 5\n",
    "    param['silent'] = 1\n",
    "    param['num_class'] = 24\n",
    "    param['eval_metric'] = \"mlogloss\"\n",
    "    param['min_child_weight'] = 12\n",
    "    param['subsample'] = 0.85\n",
    "    param['colsample_bytree'] = 0.9\n",
    "    param['seed'] = seed_val\n",
    "    num_rounds = 70\n",
    "\n",
    "    plst = list(param.items())\n",
    "    xgtrain = xgb.DMatrix(train_X, label=train_y)\n",
    "    model = xgb.train(plst, xgtrain, num_rounds)\t\n",
    "    return model"
   ]
  },
  {
   "cell_type": "code",
   "execution_count": 35,
   "metadata": {
    "collapsed": false,
    "deletable": true,
    "editable": true
   },
   "outputs": [
    {
     "name": "stdout",
     "output_type": "stream",
     "text": [
      "Starting file processing\n",
      "Finished file processing\n",
      "[ 0  1  2  3  4  5  6  7  8  9 10 11 12 13 14 15 16 17 18 19]\n",
      "(2700, 43) (542,)\n",
      "0:00:02.980572\n",
      "(534, 43)\n",
      "0:00:03.744083\n",
      "[ 8 10  9  7  6  3  5 14  7  6 10  9  6  3 15 14 10  9  6  5 17  8 10 11  9\n",
      "  5 14  8 11  9 15  5 14 17  7 17  2 15  1 14  9  8 10 11  9  3 15  5  2  4\n",
      " 14 13 10 15  3 15 13  0 15  2  7  9  1  9 17  8  6 14 19 17 15 18  2  1 14\n",
      "  8 10  9  7 11  6  3 18 18  2 12  1 17 17 14  7  4  8 11 10  9  6 15  5 14\n",
      "  8  7 10  9 11  6  3  4 17  7  3  5  4 14  9 15  4 15 15 14 14  4 14 19 15\n",
      " 14 10 15 14 15 18 14 14 17 13  8  9  6  3  4 17 18  3  5 17 14  8  9  7 11\n",
      "  6  1 18  5  2 14  8 10 11  9  6 12 19 12 17 17 18  1  6 11 17 19 19 14  2\n",
      " 14 14  5  8 11  9 19 17 17 12 19 17 17  6  3 15 14 14 14 13 15 14 14 17  8\n",
      "  7  9  5  4 13 19 17 18  9  6  5  4 15 19 14 13 13  2  1  4 14  8 11  3 19\n",
      " 19 17  7  9 18  2 15 15  3  4 12 19 16 16 16  7  3  5 16 16 15 13 16  9  6\n",
      "  3  5 16  4 16  9 16 17 16 16 16 16 16 13  8  7 10  9 11  3 15  5 16  4 14\n",
      "  2 16 15 16 16 16 13 16  7 16 16 16 14 16 14 16 16 14 16 16  7  3 15  5 16\n",
      " 16  0  2 15 16 16 12  9  5 19 12 19 16 19 16 12 16 19  8 10  9 16 16 16 19\n",
      " 16 19 16 19 16 19 16 19 16 19 19 16 19 12 19 16 16 16 15 18 17 17 17 16 17\n",
      " 17 16 18  2 16 16 17 16 18  2  6  5 16  1 16 16 17 17 11  9  5 16 16 18 16\n",
      " 16 16 16 16  2 16 16 17 16 16 16 15 17 17 15 17 16 16 16 18  8  9  3 16 12\n",
      " 16 15 16 12 18 17 16 15 13 14  3  8 11 14  6 15  2 15 18 14 15  7 10  9  6\n",
      "  8 10 11  9  6  3 18 18  8  7  9 10 11 14  2 12 16  8  9 15 17  7  6  4  7\n",
      "  6 14  8 11  9 15 12  8 10  9  6  3  4  3 19 19 15  3  0 15  0 14 10  6  4\n",
      " 14  5 19 15 16 10 11 18  8 10 11  6  9  3  5  4 17 18 17  2 11 15 15 18 18\n",
      "  6 16 19 19 15  1 13 13 13 17  2 10  9 15 14 14  0  2 15  1 12 14 13 14 14\n",
      "  2 15 13  1  2  2 13  1 14 14 14  2 13  2 15 12 14]\n",
      "Building model..\n"
     ]
    },
    {
     "ename": "XGBoostError",
     "evalue": "b'[14:19:20] C:\\\\xgboost\\\\src\\\\objective\\\\multiclass_obj.cc:43: Check failed: preds.size() == (static_cast<size_t>(param_.num_class) * info.labels.size()) SoftmaxMultiClassObj: label size and pred size does not match'",
     "output_type": "error",
     "traceback": [
      "\u001b[1;31m---------------------------------------------------------------------------\u001b[0m",
      "\u001b[1;31mXGBoostError\u001b[0m                              Traceback (most recent call last)",
      "\u001b[1;32m<ipython-input-35-3ddfb451c828>\u001b[0m in \u001b[0;36m<module>\u001b[1;34m()\u001b[0m\n\u001b[0;32m     23\u001b[0m     \u001b[0mprint\u001b[0m\u001b[1;33m(\u001b[0m\u001b[0mtrain_y\u001b[0m\u001b[1;33m)\u001b[0m\u001b[1;33m\u001b[0m\u001b[0m\n\u001b[0;32m     24\u001b[0m     \u001b[0mprint\u001b[0m\u001b[1;33m(\u001b[0m\u001b[1;34m\"Building model..\"\u001b[0m\u001b[1;33m)\u001b[0m\u001b[1;33m\u001b[0m\u001b[0m\n\u001b[1;32m---> 25\u001b[1;33m     \u001b[0mmodel\u001b[0m \u001b[1;33m=\u001b[0m \u001b[0mrunXGB\u001b[0m\u001b[1;33m(\u001b[0m\u001b[0mtrain_X\u001b[0m\u001b[1;33m,\u001b[0m \u001b[0mtrain_y\u001b[0m\u001b[1;33m,\u001b[0m \u001b[0mseed_val\u001b[0m\u001b[1;33m=\u001b[0m\u001b[1;36m0\u001b[0m\u001b[1;33m)\u001b[0m\u001b[1;33m\u001b[0m\u001b[0m\n\u001b[0m\u001b[0;32m     26\u001b[0m     \u001b[1;32mdel\u001b[0m \u001b[0mtrain_X\u001b[0m\u001b[1;33m,\u001b[0m \u001b[0mtrain_y\u001b[0m\u001b[1;33m\u001b[0m\u001b[0m\n\u001b[0;32m     27\u001b[0m     \u001b[0mprint\u001b[0m\u001b[1;33m(\u001b[0m\u001b[1;34m\"Predicting..\"\u001b[0m\u001b[1;33m)\u001b[0m\u001b[1;33m\u001b[0m\u001b[0m\n",
      "\u001b[1;32m<ipython-input-34-7d01d6dbe1db>\u001b[0m in \u001b[0;36mrunXGB\u001b[1;34m(train_X, train_y, seed_val)\u001b[0m\n\u001b[0;32m     15\u001b[0m     \u001b[0mplst\u001b[0m \u001b[1;33m=\u001b[0m \u001b[0mlist\u001b[0m\u001b[1;33m(\u001b[0m\u001b[0mparam\u001b[0m\u001b[1;33m.\u001b[0m\u001b[0mitems\u001b[0m\u001b[1;33m(\u001b[0m\u001b[1;33m)\u001b[0m\u001b[1;33m)\u001b[0m\u001b[1;33m\u001b[0m\u001b[0m\n\u001b[0;32m     16\u001b[0m     \u001b[0mxgtrain\u001b[0m \u001b[1;33m=\u001b[0m \u001b[0mxgb\u001b[0m\u001b[1;33m.\u001b[0m\u001b[0mDMatrix\u001b[0m\u001b[1;33m(\u001b[0m\u001b[0mtrain_X\u001b[0m\u001b[1;33m,\u001b[0m \u001b[0mlabel\u001b[0m\u001b[1;33m=\u001b[0m\u001b[0mtrain_y\u001b[0m\u001b[1;33m)\u001b[0m\u001b[1;33m\u001b[0m\u001b[0m\n\u001b[1;32m---> 17\u001b[1;33m     \u001b[0mmodel\u001b[0m \u001b[1;33m=\u001b[0m \u001b[0mxgb\u001b[0m\u001b[1;33m.\u001b[0m\u001b[0mtrain\u001b[0m\u001b[1;33m(\u001b[0m\u001b[0mplst\u001b[0m\u001b[1;33m,\u001b[0m \u001b[0mxgtrain\u001b[0m\u001b[1;33m,\u001b[0m \u001b[0mnum_rounds\u001b[0m\u001b[1;33m)\u001b[0m\u001b[1;33m\u001b[0m\u001b[0m\n\u001b[0m\u001b[0;32m     18\u001b[0m     \u001b[1;32mreturn\u001b[0m \u001b[0mmodel\u001b[0m\u001b[1;33m\u001b[0m\u001b[0m\n",
      "\u001b[1;32mC:\\Anaconda3\\envs\\aind-dog-copy\\lib\\site-packages\\xgboost-0.6-py3.5.egg\\xgboost\\training.py\u001b[0m in \u001b[0;36mtrain\u001b[1;34m(params, dtrain, num_boost_round, evals, obj, feval, maximize, early_stopping_rounds, evals_result, verbose_eval, xgb_model, callbacks, learning_rates)\u001b[0m\n\u001b[0;32m    202\u001b[0m                            \u001b[0mevals\u001b[0m\u001b[1;33m=\u001b[0m\u001b[0mevals\u001b[0m\u001b[1;33m,\u001b[0m\u001b[1;33m\u001b[0m\u001b[0m\n\u001b[0;32m    203\u001b[0m                            \u001b[0mobj\u001b[0m\u001b[1;33m=\u001b[0m\u001b[0mobj\u001b[0m\u001b[1;33m,\u001b[0m \u001b[0mfeval\u001b[0m\u001b[1;33m=\u001b[0m\u001b[0mfeval\u001b[0m\u001b[1;33m,\u001b[0m\u001b[1;33m\u001b[0m\u001b[0m\n\u001b[1;32m--> 204\u001b[1;33m                            xgb_model=xgb_model, callbacks=callbacks)\n\u001b[0m\u001b[0;32m    205\u001b[0m \u001b[1;33m\u001b[0m\u001b[0m\n\u001b[0;32m    206\u001b[0m \u001b[1;33m\u001b[0m\u001b[0m\n",
      "\u001b[1;32mC:\\Anaconda3\\envs\\aind-dog-copy\\lib\\site-packages\\xgboost-0.6-py3.5.egg\\xgboost\\training.py\u001b[0m in \u001b[0;36m_train_internal\u001b[1;34m(params, dtrain, num_boost_round, evals, obj, feval, xgb_model, callbacks)\u001b[0m\n\u001b[0;32m     72\u001b[0m         \u001b[1;31m# Skip the first update if it is a recovery step.\u001b[0m\u001b[1;33m\u001b[0m\u001b[1;33m\u001b[0m\u001b[0m\n\u001b[0;32m     73\u001b[0m         \u001b[1;32mif\u001b[0m \u001b[0mversion\u001b[0m \u001b[1;33m%\u001b[0m \u001b[1;36m2\u001b[0m \u001b[1;33m==\u001b[0m \u001b[1;36m0\u001b[0m\u001b[1;33m:\u001b[0m\u001b[1;33m\u001b[0m\u001b[0m\n\u001b[1;32m---> 74\u001b[1;33m             \u001b[0mbst\u001b[0m\u001b[1;33m.\u001b[0m\u001b[0mupdate\u001b[0m\u001b[1;33m(\u001b[0m\u001b[0mdtrain\u001b[0m\u001b[1;33m,\u001b[0m \u001b[0mi\u001b[0m\u001b[1;33m,\u001b[0m \u001b[0mobj\u001b[0m\u001b[1;33m)\u001b[0m\u001b[1;33m\u001b[0m\u001b[0m\n\u001b[0m\u001b[0;32m     75\u001b[0m             \u001b[0mbst\u001b[0m\u001b[1;33m.\u001b[0m\u001b[0msave_rabit_checkpoint\u001b[0m\u001b[1;33m(\u001b[0m\u001b[1;33m)\u001b[0m\u001b[1;33m\u001b[0m\u001b[0m\n\u001b[0;32m     76\u001b[0m             \u001b[0mversion\u001b[0m \u001b[1;33m+=\u001b[0m \u001b[1;36m1\u001b[0m\u001b[1;33m\u001b[0m\u001b[0m\n",
      "\u001b[1;32mC:\\Anaconda3\\envs\\aind-dog-copy\\lib\\site-packages\\xgboost-0.6-py3.5.egg\\xgboost\\core.py\u001b[0m in \u001b[0;36mupdate\u001b[1;34m(self, dtrain, iteration, fobj)\u001b[0m\n\u001b[0;32m    894\u001b[0m         \u001b[1;32mif\u001b[0m \u001b[0mfobj\u001b[0m \u001b[1;32mis\u001b[0m \u001b[1;32mNone\u001b[0m\u001b[1;33m:\u001b[0m\u001b[1;33m\u001b[0m\u001b[0m\n\u001b[0;32m    895\u001b[0m             _check_call(_LIB.XGBoosterUpdateOneIter(self.handle, ctypes.c_int(iteration),\n\u001b[1;32m--> 896\u001b[1;33m                                                     dtrain.handle))\n\u001b[0m\u001b[0;32m    897\u001b[0m         \u001b[1;32melse\u001b[0m\u001b[1;33m:\u001b[0m\u001b[1;33m\u001b[0m\u001b[0m\n\u001b[0;32m    898\u001b[0m             \u001b[0mpred\u001b[0m \u001b[1;33m=\u001b[0m \u001b[0mself\u001b[0m\u001b[1;33m.\u001b[0m\u001b[0mpredict\u001b[0m\u001b[1;33m(\u001b[0m\u001b[0mdtrain\u001b[0m\u001b[1;33m)\u001b[0m\u001b[1;33m\u001b[0m\u001b[0m\n",
      "\u001b[1;32mC:\\Anaconda3\\envs\\aind-dog-copy\\lib\\site-packages\\xgboost-0.6-py3.5.egg\\xgboost\\core.py\u001b[0m in \u001b[0;36m_check_call\u001b[1;34m(ret)\u001b[0m\n\u001b[0;32m    128\u001b[0m     \"\"\"\n\u001b[0;32m    129\u001b[0m     \u001b[1;32mif\u001b[0m \u001b[0mret\u001b[0m \u001b[1;33m!=\u001b[0m \u001b[1;36m0\u001b[0m\u001b[1;33m:\u001b[0m\u001b[1;33m\u001b[0m\u001b[0m\n\u001b[1;32m--> 130\u001b[1;33m         \u001b[1;32mraise\u001b[0m \u001b[0mXGBoostError\u001b[0m\u001b[1;33m(\u001b[0m\u001b[0m_LIB\u001b[0m\u001b[1;33m.\u001b[0m\u001b[0mXGBGetLastError\u001b[0m\u001b[1;33m(\u001b[0m\u001b[1;33m)\u001b[0m\u001b[1;33m)\u001b[0m\u001b[1;33m\u001b[0m\u001b[0m\n\u001b[0m\u001b[0;32m    131\u001b[0m \u001b[1;33m\u001b[0m\u001b[0m\n\u001b[0;32m    132\u001b[0m \u001b[1;33m\u001b[0m\u001b[0m\n",
      "\u001b[1;31mXGBoostError\u001b[0m: b'[14:19:20] C:\\\\xgboost\\\\src\\\\objective\\\\multiclass_obj.cc:43: Check failed: preds.size() == (static_cast<size_t>(param_.num_class) * info.labels.size()) SoftmaxMultiClassObj: label size and pred size does not match'"
     ]
    }
   ],
   "source": [
    "if __name__ == \"__main__\":\n",
    "    start_time = datetime.datetime.now()\n",
    "    #data_path = \"../input/\"\n",
    "    train_file = (\"train_file_new.csv\")\n",
    "    print('Starting file processing')\n",
    "    #x_vars_list, y_vars_list, cust_dict = processData(train_file, {})\n",
    "    x_vars_list, y_vars_list, cust_dict, lag_cust_dict = processDataMK(train_file, {}, {})\n",
    "    print('Finished file processing')\n",
    "    train_X = np.array(x_vars_list)\n",
    "    train_y = np.array(y_vars_list)\n",
    "    print(np.unique(train_y))\n",
    "    del x_vars_list, y_vars_list\n",
    "    #train_file.close()\n",
    "    print(train_X.shape, train_y.shape)\n",
    "    print(datetime.datetime.now()-start_time)\n",
    "    test_file = (\"test_file_new.csv\")\n",
    "    x_vars_list, y_vars_list, cust_dict, lag_cust_dict = processDataMK(test_file, cust_dict, lag_cust_dict)\n",
    "    test_X = np.array(x_vars_list)\n",
    "    del x_vars_list\n",
    "    #test_file.close()\n",
    "    print(test_X.shape)\n",
    "    print(datetime.datetime.now()-start_time)\n",
    "    print(train_y)\n",
    "    print(\"Building model..\")\n",
    "    model = runXGB(train_X, train_y, seed_val=0)\n",
    "    del train_X, train_y\n",
    "    print(\"Predicting..\")\n",
    "    xgtest = xgb.DMatrix(test_X)\n",
    "    preds = model.predict(xgtest)\n",
    "    del test_X, xgtest\n",
    "    print(datetime.datetime.now()-start_time)\n",
    "\n",
    "    print(\"Getting the top products..\")\n",
    "    test_id = np.array(pd.read_csv(\"sampleSubmission.csv\", usecols=['customerID'])['customerID'])\n",
    "    new_products = []\n",
    "    for i, idx in enumerate(test_id):\n",
    "        new_products.append([max(x1 - x2,0) for (x1, x2) in zip(preds[i,:], cust_dict[idx])])\n",
    "    target_cols = np.array(target_cols)\n",
    "    preds = np.argsort(np.array(new_products), axis=1)\n",
    "    preds = np.fliplr(preds)[:,:7]\n",
    "    final_preds = [\" \".join(list(target_cols[pred])) for pred in preds]\n",
    "    out_df = pd.DataFrame({'customerID':test_id, 'added_products':final_preds})\n",
    "    out_df.to_csv('sub_xgb_new.csv', index=False)\n",
    "    print(datetime.datetime.now()-start_time)"
   ]
  },
  {
   "cell_type": "code",
   "execution_count": null,
   "metadata": {
    "collapsed": false,
    "deletable": true,
    "editable": true
   },
   "outputs": [],
   "source": [
    "train_file =  open(\"all_clean_new.csv\")\n",
    "for row in csv.DictReader(train_file):\n",
    "    if row['transactionDate'] in ['4/28/2016', '5/28/2016', '6/28/2016', '4/28/2017', '5/28/2017', '6/28/2017']:\n",
    "        print(row['transactionDate'])"
   ]
  },
  {
   "cell_type": "code",
   "execution_count": null,
   "metadata": {
    "collapsed": true,
    "deletable": true,
    "editable": true
   },
   "outputs": [],
   "source": []
  }
 ],
 "metadata": {
  "kernelspec": {
   "display_name": "Python [conda env:aind-dog-copy]",
   "language": "python",
   "name": "conda-env-aind-dog-copy-py"
  },
  "language_info": {
   "codemirror_mode": {
    "name": "ipython",
    "version": 3
   },
   "file_extension": ".py",
   "mimetype": "text/x-python",
   "name": "python",
   "nbconvert_exporter": "python",
   "pygments_lexer": "ipython3",
   "version": "3.5.3"
  }
 },
 "nbformat": 4,
 "nbformat_minor": 2
}

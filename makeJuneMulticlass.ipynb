{
 "cells": [
  {
   "cell_type": "code",
   "execution_count": 1,
   "metadata": {
    "collapsed": true,
    "deletable": true,
    "editable": true
   },
   "outputs": [],
   "source": [
    "import numpy as np # linear algebra\n",
    "import pandas as pd # data processing, CSV file I/O (e.g. pd.read_csv)\n",
    "from scipy.linalg import sqrtm\n",
    "from copy import deepcopy\n",
    "from datetime import datetime\n",
    "import time"
   ]
  },
  {
   "cell_type": "code",
   "execution_count": 2,
   "metadata": {
    "collapsed": false,
    "deletable": true,
    "editable": true
   },
   "outputs": [
    {
     "name": "stderr",
     "output_type": "stream",
     "text": [
      "C:\\Anaconda3\\envs\\aind-dog-copy\\lib\\site-packages\\IPython\\core\\interactiveshell.py:2717: DtypeWarning: Columns (4) have mixed types. Specify dtype option on import or set low_memory=False.\n",
      "  interactivity=interactivity, compiler=compiler, result=result)\n"
     ]
    }
   ],
   "source": [
    "## load data\n",
    "train = pd.read_csv('products.csv')\n",
    "test = pd.read_csv('sampleSubmission.csv')"
   ]
  },
  {
   "cell_type": "code",
   "execution_count": 3,
   "metadata": {
    "collapsed": true,
    "deletable": true,
    "editable": true
   },
   "outputs": [],
   "source": [
    "## fill missing values\n",
    "#products['customerID'].fillna('BBID_0000', inplace=True)\n",
    "train['promotion_description'].fillna('no_promo', inplace=True)\n",
    "train['Gender'].fillna('no_gender', inplace=True)\n",
    "train['State'].fillna('no_state', inplace=True)\n",
    "train['PinCode'].fillna(-1, inplace=True)\n",
    "train['DOB'].fillna(\"1\", inplace=True)"
   ]
  },
  {
   "cell_type": "code",
   "execution_count": 4,
   "metadata": {
    "collapsed": true,
    "deletable": true,
    "editable": true
   },
   "outputs": [],
   "source": [
    "#handling missing data for product_code\n",
    "train = train[np.isfinite(train['product_code'])]"
   ]
  },
  {
   "cell_type": "code",
   "execution_count": 5,
   "metadata": {
    "collapsed": false,
    "deletable": true,
    "editable": true
   },
   "outputs": [
    {
     "data": {
      "text/html": [
       "<div>\n",
       "<style>\n",
       "    .dataframe thead tr:only-child th {\n",
       "        text-align: right;\n",
       "    }\n",
       "\n",
       "    .dataframe thead th {\n",
       "        text-align: left;\n",
       "    }\n",
       "\n",
       "    .dataframe tbody tr th {\n",
       "        vertical-align: top;\n",
       "    }\n",
       "</style>\n",
       "<table border=\"1\" class=\"dataframe\">\n",
       "  <thead>\n",
       "    <tr style=\"text-align: right;\">\n",
       "      <th></th>\n",
       "      <th>product_code</th>\n",
       "      <th>frequency_count</th>\n",
       "    </tr>\n",
       "  </thead>\n",
       "  <tbody>\n",
       "    <tr>\n",
       "      <th>0</th>\n",
       "      <td>300776411</td>\n",
       "      <td>60994</td>\n",
       "    </tr>\n",
       "    <tr>\n",
       "      <th>1</th>\n",
       "      <td>300776410</td>\n",
       "      <td>58437</td>\n",
       "    </tr>\n",
       "    <tr>\n",
       "      <th>2</th>\n",
       "      <td>108037568</td>\n",
       "      <td>51338</td>\n",
       "    </tr>\n",
       "    <tr>\n",
       "      <th>3</th>\n",
       "      <td>300785148</td>\n",
       "      <td>41500</td>\n",
       "    </tr>\n",
       "    <tr>\n",
       "      <th>4</th>\n",
       "      <td>108100382</td>\n",
       "      <td>35259</td>\n",
       "    </tr>\n",
       "    <tr>\n",
       "      <th>5</th>\n",
       "      <td>300785150</td>\n",
       "      <td>34794</td>\n",
       "    </tr>\n",
       "    <tr>\n",
       "      <th>6</th>\n",
       "      <td>300840018</td>\n",
       "      <td>31149</td>\n",
       "    </tr>\n",
       "    <tr>\n",
       "      <th>7</th>\n",
       "      <td>108100362</td>\n",
       "      <td>27963</td>\n",
       "    </tr>\n",
       "    <tr>\n",
       "      <th>8</th>\n",
       "      <td>108005676</td>\n",
       "      <td>27727</td>\n",
       "    </tr>\n",
       "    <tr>\n",
       "      <th>9</th>\n",
       "      <td>300111517</td>\n",
       "      <td>25360</td>\n",
       "    </tr>\n",
       "    <tr>\n",
       "      <th>10</th>\n",
       "      <td>108100306</td>\n",
       "      <td>24668</td>\n",
       "    </tr>\n",
       "    <tr>\n",
       "      <th>11</th>\n",
       "      <td>108000707</td>\n",
       "      <td>23638</td>\n",
       "    </tr>\n",
       "    <tr>\n",
       "      <th>12</th>\n",
       "      <td>300776409</td>\n",
       "      <td>22528</td>\n",
       "    </tr>\n",
       "    <tr>\n",
       "      <th>13</th>\n",
       "      <td>300781593</td>\n",
       "      <td>21803</td>\n",
       "    </tr>\n",
       "    <tr>\n",
       "      <th>14</th>\n",
       "      <td>108100308</td>\n",
       "      <td>21204</td>\n",
       "    </tr>\n",
       "    <tr>\n",
       "      <th>15</th>\n",
       "      <td>300481673</td>\n",
       "      <td>21037</td>\n",
       "    </tr>\n",
       "    <tr>\n",
       "      <th>16</th>\n",
       "      <td>108100294</td>\n",
       "      <td>20174</td>\n",
       "    </tr>\n",
       "    <tr>\n",
       "      <th>17</th>\n",
       "      <td>108100290</td>\n",
       "      <td>19628</td>\n",
       "    </tr>\n",
       "    <tr>\n",
       "      <th>18</th>\n",
       "      <td>108100352</td>\n",
       "      <td>17676</td>\n",
       "    </tr>\n",
       "    <tr>\n",
       "      <th>19</th>\n",
       "      <td>300070102</td>\n",
       "      <td>16987</td>\n",
       "    </tr>\n",
       "  </tbody>\n",
       "</table>\n",
       "</div>"
      ],
      "text/plain": [
       "    product_code  frequency_count\n",
       "0      300776411            60994\n",
       "1      300776410            58437\n",
       "2      108037568            51338\n",
       "3      300785148            41500\n",
       "4      108100382            35259\n",
       "5      300785150            34794\n",
       "6      300840018            31149\n",
       "7      108100362            27963\n",
       "8      108005676            27727\n",
       "9      300111517            25360\n",
       "10     108100306            24668\n",
       "11     108000707            23638\n",
       "12     300776409            22528\n",
       "13     300781593            21803\n",
       "14     108100308            21204\n",
       "15     300481673            21037\n",
       "16     108100294            20174\n",
       "17     108100290            19628\n",
       "18     108100352            17676\n",
       "19     300070102            16987"
      ]
     },
     "execution_count": 5,
     "metadata": {},
     "output_type": "execute_result"
    }
   ],
   "source": [
    "cnt_srs = train['product_code'].astype('int64').value_counts().reset_index().head(20)\n",
    "#cnt_srs = products['product_code'].value_counts().reset_index()\n",
    "cnt_srs.columns = ['product_code', 'frequency_count']\n",
    "cnt_srs"
   ]
  },
  {
   "cell_type": "code",
   "execution_count": 6,
   "metadata": {
    "collapsed": true,
    "deletable": true,
    "editable": true
   },
   "outputs": [],
   "source": [
    "prod_index = []\n",
    "for i in cnt_srs['product_code']:\n",
    "    prod_index.append(i)"
   ]
  },
  {
   "cell_type": "code",
   "execution_count": 7,
   "metadata": {
    "collapsed": false
   },
   "outputs": [
    {
     "data": {
      "text/plain": [
       "[300776411,\n",
       " 300776410,\n",
       " 108037568,\n",
       " 300785148,\n",
       " 108100382,\n",
       " 300785150,\n",
       " 300840018,\n",
       " 108100362,\n",
       " 108005676,\n",
       " 300111517,\n",
       " 108100306,\n",
       " 108000707,\n",
       " 300776409,\n",
       " 300781593,\n",
       " 108100308,\n",
       " 300481673,\n",
       " 108100294,\n",
       " 108100290,\n",
       " 108100352,\n",
       " 300070102]"
      ]
     },
     "execution_count": 7,
     "metadata": {},
     "output_type": "execute_result"
    }
   ],
   "source": [
    "prod_index"
   ]
  },
  {
   "cell_type": "code",
   "execution_count": 8,
   "metadata": {
    "collapsed": true,
    "deletable": true,
    "editable": true
   },
   "outputs": [],
   "source": [
    "product_joined = pd.merge(train, cnt_srs, on='product_code', how='inner')\n",
    "products_less = product_joined[['customerID', 'Gender', 'State', 'transactionDate', 'product_code']].reset_index()\n",
    "products_less.drop('index', axis=1, inplace=True)\n",
    "products_to_join = pd.DataFrame(train['customerID']).reset_index()\n",
    "products_to_join.drop('index', axis=1, inplace=True)"
   ]
  },
  {
   "cell_type": "code",
   "execution_count": 9,
   "metadata": {
    "collapsed": false,
    "deletable": true,
    "editable": true
   },
   "outputs": [
    {
     "data": {
      "text/html": [
       "<div>\n",
       "<style>\n",
       "    .dataframe thead tr:only-child th {\n",
       "        text-align: right;\n",
       "    }\n",
       "\n",
       "    .dataframe thead th {\n",
       "        text-align: left;\n",
       "    }\n",
       "\n",
       "    .dataframe tbody tr th {\n",
       "        vertical-align: top;\n",
       "    }\n",
       "</style>\n",
       "<table border=\"1\" class=\"dataframe\">\n",
       "  <thead>\n",
       "    <tr style=\"text-align: right;\">\n",
       "      <th></th>\n",
       "      <th>customerID</th>\n",
       "      <th>Gender</th>\n",
       "      <th>State</th>\n",
       "      <th>transactionDate</th>\n",
       "      <th>product_code</th>\n",
       "    </tr>\n",
       "  </thead>\n",
       "  <tbody>\n",
       "    <tr>\n",
       "      <th>0</th>\n",
       "      <td>BBID_2041</td>\n",
       "      <td>male</td>\n",
       "      <td>no_state</td>\n",
       "      <td>2016-03-20</td>\n",
       "      <td>1.081e+08</td>\n",
       "    </tr>\n",
       "    <tr>\n",
       "      <th>1</th>\n",
       "      <td>BBID_2041</td>\n",
       "      <td>male</td>\n",
       "      <td>no_state</td>\n",
       "      <td>2016-03-20</td>\n",
       "      <td>1.081e+08</td>\n",
       "    </tr>\n",
       "    <tr>\n",
       "      <th>2</th>\n",
       "      <td>BBID_2041</td>\n",
       "      <td>male</td>\n",
       "      <td>no_state</td>\n",
       "      <td>2016-03-20</td>\n",
       "      <td>1.081e+08</td>\n",
       "    </tr>\n",
       "    <tr>\n",
       "      <th>3</th>\n",
       "      <td>BBID_2041</td>\n",
       "      <td>male</td>\n",
       "      <td>no_state</td>\n",
       "      <td>2016-03-20</td>\n",
       "      <td>1.081e+08</td>\n",
       "    </tr>\n",
       "    <tr>\n",
       "      <th>4</th>\n",
       "      <td>BBID_2041</td>\n",
       "      <td>male</td>\n",
       "      <td>no_state</td>\n",
       "      <td>2016-03-20</td>\n",
       "      <td>1.081e+08</td>\n",
       "    </tr>\n",
       "  </tbody>\n",
       "</table>\n",
       "</div>"
      ],
      "text/plain": [
       "  customerID Gender     State transactionDate product_code\n",
       "0  BBID_2041   male  no_state      2016-03-20    1.081e+08\n",
       "1  BBID_2041   male  no_state      2016-03-20    1.081e+08\n",
       "2  BBID_2041   male  no_state      2016-03-20    1.081e+08\n",
       "3  BBID_2041   male  no_state      2016-03-20    1.081e+08\n",
       "4  BBID_2041   male  no_state      2016-03-20    1.081e+08"
      ]
     },
     "execution_count": 9,
     "metadata": {},
     "output_type": "execute_result"
    }
   ],
   "source": [
    "# Join the dummy variables to the main dataframe\n",
    "train = pd.merge(products_to_join, products_less.drop_duplicates(subset=['customerID'], keep='last'), on='customerID', how='left')\n",
    "train.head()"
   ]
  },
  {
   "cell_type": "code",
   "execution_count": 10,
   "metadata": {
    "collapsed": true,
    "deletable": true,
    "editable": true
   },
   "outputs": [],
   "source": [
    "train.dropna(inplace=True)"
   ]
  },
  {
   "cell_type": "code",
   "execution_count": 11,
   "metadata": {
    "collapsed": false,
    "deletable": true,
    "editable": true
   },
   "outputs": [
    {
     "data": {
      "text/html": [
       "<div>\n",
       "<style>\n",
       "    .dataframe thead tr:only-child th {\n",
       "        text-align: right;\n",
       "    }\n",
       "\n",
       "    .dataframe thead th {\n",
       "        text-align: left;\n",
       "    }\n",
       "\n",
       "    .dataframe tbody tr th {\n",
       "        vertical-align: top;\n",
       "    }\n",
       "</style>\n",
       "<table border=\"1\" class=\"dataframe\">\n",
       "  <thead>\n",
       "    <tr style=\"text-align: right;\">\n",
       "      <th></th>\n",
       "      <th>customerID</th>\n",
       "      <th>Gender</th>\n",
       "      <th>State</th>\n",
       "      <th>transactionDate</th>\n",
       "      <th>108000707.0</th>\n",
       "      <th>108005676.0</th>\n",
       "      <th>108037568.0</th>\n",
       "      <th>108100290.0</th>\n",
       "      <th>108100294.0</th>\n",
       "      <th>108100306.0</th>\n",
       "      <th>...</th>\n",
       "      <th>300070102.0</th>\n",
       "      <th>300111517.0</th>\n",
       "      <th>300481673.0</th>\n",
       "      <th>300776409.0</th>\n",
       "      <th>300776410.0</th>\n",
       "      <th>300776411.0</th>\n",
       "      <th>300781593.0</th>\n",
       "      <th>300785148.0</th>\n",
       "      <th>300785150.0</th>\n",
       "      <th>300840018.0</th>\n",
       "    </tr>\n",
       "  </thead>\n",
       "  <tbody>\n",
       "    <tr>\n",
       "      <th>0</th>\n",
       "      <td>BBID_2041</td>\n",
       "      <td>male</td>\n",
       "      <td>no_state</td>\n",
       "      <td>2016-03-20</td>\n",
       "      <td>0</td>\n",
       "      <td>0</td>\n",
       "      <td>0</td>\n",
       "      <td>0</td>\n",
       "      <td>0</td>\n",
       "      <td>1</td>\n",
       "      <td>...</td>\n",
       "      <td>0</td>\n",
       "      <td>0</td>\n",
       "      <td>0</td>\n",
       "      <td>0</td>\n",
       "      <td>0</td>\n",
       "      <td>0</td>\n",
       "      <td>0</td>\n",
       "      <td>0</td>\n",
       "      <td>0</td>\n",
       "      <td>0</td>\n",
       "    </tr>\n",
       "    <tr>\n",
       "      <th>1</th>\n",
       "      <td>BBID_2041</td>\n",
       "      <td>male</td>\n",
       "      <td>no_state</td>\n",
       "      <td>2016-03-20</td>\n",
       "      <td>0</td>\n",
       "      <td>0</td>\n",
       "      <td>0</td>\n",
       "      <td>0</td>\n",
       "      <td>0</td>\n",
       "      <td>1</td>\n",
       "      <td>...</td>\n",
       "      <td>0</td>\n",
       "      <td>0</td>\n",
       "      <td>0</td>\n",
       "      <td>0</td>\n",
       "      <td>0</td>\n",
       "      <td>0</td>\n",
       "      <td>0</td>\n",
       "      <td>0</td>\n",
       "      <td>0</td>\n",
       "      <td>0</td>\n",
       "    </tr>\n",
       "    <tr>\n",
       "      <th>2</th>\n",
       "      <td>BBID_2041</td>\n",
       "      <td>male</td>\n",
       "      <td>no_state</td>\n",
       "      <td>2016-03-20</td>\n",
       "      <td>0</td>\n",
       "      <td>0</td>\n",
       "      <td>0</td>\n",
       "      <td>0</td>\n",
       "      <td>0</td>\n",
       "      <td>1</td>\n",
       "      <td>...</td>\n",
       "      <td>0</td>\n",
       "      <td>0</td>\n",
       "      <td>0</td>\n",
       "      <td>0</td>\n",
       "      <td>0</td>\n",
       "      <td>0</td>\n",
       "      <td>0</td>\n",
       "      <td>0</td>\n",
       "      <td>0</td>\n",
       "      <td>0</td>\n",
       "    </tr>\n",
       "    <tr>\n",
       "      <th>3</th>\n",
       "      <td>BBID_2041</td>\n",
       "      <td>male</td>\n",
       "      <td>no_state</td>\n",
       "      <td>2016-03-20</td>\n",
       "      <td>0</td>\n",
       "      <td>0</td>\n",
       "      <td>0</td>\n",
       "      <td>0</td>\n",
       "      <td>0</td>\n",
       "      <td>1</td>\n",
       "      <td>...</td>\n",
       "      <td>0</td>\n",
       "      <td>0</td>\n",
       "      <td>0</td>\n",
       "      <td>0</td>\n",
       "      <td>0</td>\n",
       "      <td>0</td>\n",
       "      <td>0</td>\n",
       "      <td>0</td>\n",
       "      <td>0</td>\n",
       "      <td>0</td>\n",
       "    </tr>\n",
       "    <tr>\n",
       "      <th>4</th>\n",
       "      <td>BBID_2041</td>\n",
       "      <td>male</td>\n",
       "      <td>no_state</td>\n",
       "      <td>2016-03-20</td>\n",
       "      <td>0</td>\n",
       "      <td>0</td>\n",
       "      <td>0</td>\n",
       "      <td>0</td>\n",
       "      <td>0</td>\n",
       "      <td>1</td>\n",
       "      <td>...</td>\n",
       "      <td>0</td>\n",
       "      <td>0</td>\n",
       "      <td>0</td>\n",
       "      <td>0</td>\n",
       "      <td>0</td>\n",
       "      <td>0</td>\n",
       "      <td>0</td>\n",
       "      <td>0</td>\n",
       "      <td>0</td>\n",
       "      <td>0</td>\n",
       "    </tr>\n",
       "  </tbody>\n",
       "</table>\n",
       "<p>5 rows × 24 columns</p>\n",
       "</div>"
      ],
      "text/plain": [
       "  customerID Gender     State transactionDate  108000707.0  108005676.0  \\\n",
       "0  BBID_2041   male  no_state      2016-03-20            0            0   \n",
       "1  BBID_2041   male  no_state      2016-03-20            0            0   \n",
       "2  BBID_2041   male  no_state      2016-03-20            0            0   \n",
       "3  BBID_2041   male  no_state      2016-03-20            0            0   \n",
       "4  BBID_2041   male  no_state      2016-03-20            0            0   \n",
       "\n",
       "   108037568.0  108100290.0  108100294.0  108100306.0     ...       \\\n",
       "0            0            0            0            1     ...        \n",
       "1            0            0            0            1     ...        \n",
       "2            0            0            0            1     ...        \n",
       "3            0            0            0            1     ...        \n",
       "4            0            0            0            1     ...        \n",
       "\n",
       "   300070102.0  300111517.0  300481673.0  300776409.0  300776410.0  \\\n",
       "0            0            0            0            0            0   \n",
       "1            0            0            0            0            0   \n",
       "2            0            0            0            0            0   \n",
       "3            0            0            0            0            0   \n",
       "4            0            0            0            0            0   \n",
       "\n",
       "   300776411.0  300781593.0  300785148.0  300785150.0  300840018.0  \n",
       "0            0            0            0            0            0  \n",
       "1            0            0            0            0            0  \n",
       "2            0            0            0            0            0  \n",
       "3            0            0            0            0            0  \n",
       "4            0            0            0            0            0  \n",
       "\n",
       "[5 rows x 24 columns]"
      ]
     },
     "execution_count": 11,
     "metadata": {},
     "output_type": "execute_result"
    }
   ],
   "source": [
    "prod_dict = {'_'}\n",
    "\n",
    "train = pd.get_dummies(train, columns=['product_code'], prefix=prod_dict)\n",
    "train.columns=train.columns.str.replace('_','')\n",
    "train.reset_index(drop=True).head()"
   ]
  },
  {
   "cell_type": "code",
   "execution_count": 12,
   "metadata": {
    "collapsed": false
   },
   "outputs": [
    {
     "data": {
      "text/plain": [
       "Index(['customerID', 'Gender', 'State', 'transactionDate', '108000707.0',\n",
       "       '108005676.0', '108037568.0', '108100290.0', '108100294.0',\n",
       "       '108100306.0', '108100308.0', '108100352.0', '108100362.0',\n",
       "       '108100382.0', '300070102.0', '300111517.0', '300481673.0',\n",
       "       '300776409.0', '300776410.0', '300776411.0', '300781593.0',\n",
       "       '300785148.0', '300785150.0', '300840018.0'],\n",
       "      dtype='object')"
      ]
     },
     "execution_count": 12,
     "metadata": {},
     "output_type": "execute_result"
    }
   ],
   "source": [
    "train.columns"
   ]
  },
  {
   "cell_type": "code",
   "execution_count": null,
   "metadata": {
    "collapsed": true,
    "deletable": true,
    "editable": true
   },
   "outputs": [],
   "source": [
    "df_train = train.copy()"
   ]
  },
  {
   "cell_type": "code",
   "execution_count": null,
   "metadata": {
    "collapsed": false,
    "deletable": true,
    "editable": true
   },
   "outputs": [],
   "source": [
    "pd.set_option('display.max_columns', 600)\n",
    "pd.set_option('display.expand_frame_repr', False)"
   ]
  },
  {
   "cell_type": "code",
   "execution_count": null,
   "metadata": {
    "collapsed": false,
    "deletable": true,
    "editable": true
   },
   "outputs": [],
   "source": [
    "df_train.columns[4:]"
   ]
  },
  {
   "cell_type": "code",
   "execution_count": null,
   "metadata": {
    "collapsed": true,
    "deletable": true,
    "editable": true
   },
   "outputs": [],
   "source": [
    "product_col = ['100105505.0', '108000537.0', '108000568.0', '108000707.0',\n",
    "       '108001125.0', '108001127.0', '108003448.0', '108003451.0',\n",
    "       '108004423.0', '108004880.0', '108004977.0', '108005676.0',\n",
    "       '108005681.0', '108008866.0', '108010225.0', '108015124.0',\n",
    "       '108015133.0', '108017242.0', '108017245.0', '108018729.0',\n",
    "       '108018730.0', '108018925.0', '108020429.0', '108030063.0',\n",
    "       '108030113.0', '108032048.0', '108037499.0', '108037504.0',\n",
    "       '108037568.0', '108043278.0', '108100137.0', '108100143.0',\n",
    "       '108100145.0', '108100183.0', '108100193.0', '108100243.0',\n",
    "       '108100253.0', '108100267.0', '108100278.0', '108100288.0',\n",
    "       '108100290.0', '108100294.0', '108100296.0', '108100297.0',\n",
    "       '108100298.0', '108100302.0', '108100306.0', '108100308.0',\n",
    "       '108100319.0', '108100328.0', '108100330.0', '108100331.0',\n",
    "       '108100334.0', '108100335.0', '108100340.0', '108100352.0',\n",
    "       '108100361.0', '108100362.0', '108100382.0', '300028156.0',\n",
    "       '300070102.0', '300088564.0', '300111517.0', '300143077.0',\n",
    "       '300144423.0', '300150379.0', '300157247.0', '300177372.0',\n",
    "       '300317078.0', '300326493.0', '300347917.0', '300361324.0',\n",
    "       '300374464.0', '300481673.0', '300481740.0', '300481741.0',\n",
    "       '300497842.0', '300528552.0', '300616595.0', '300647581.0',\n",
    "       '300676075.0', '300680079.0', '300685217.0', '300776409.0',\n",
    "       '300776410.0', '300776411.0', '300781593.0', '300785147.0',\n",
    "       '300785148.0', '300785150.0', '300808923.0', '300840018.0',\n",
    "       '300942704.0', '300974316.0', '300974360.0', '500096181.0',\n",
    "       '1000010411.0', '1000058092.0', '1000336252.0', '1000609658.0']"
   ]
  },
  {
   "cell_type": "code",
   "execution_count": null,
   "metadata": {
    "collapsed": false,
    "deletable": true,
    "editable": true
   },
   "outputs": [],
   "source": [
    "df_train.head()"
   ]
  },
  {
   "cell_type": "code",
   "execution_count": null,
   "metadata": {
    "collapsed": true,
    "deletable": true,
    "editable": true
   },
   "outputs": [],
   "source": [
    "month = 6\n",
    "\n",
    "df_train_curr = df_train.loc[df_train['transactionDate']=='2016-06-28',:]\n",
    "df_train_5 = df_train.loc[df_train['transactionDate']=='2016-05-28', product_col+['customerID']]\n",
    "df_train_4 = df_train.loc[df_train['transactionDate']=='2016-04-28', product_col+['customerID']]\n",
    "df_train_3 = df_train.loc[df_train['transactionDate']=='2016-03-28', product_col+['customerID']]\n",
    "df_train_2 = df_train.loc[df_train['transactionDate']=='2016-02-28', product_col+['customerID']]\n",
    "df_train_1 = df_train.loc[df_train['transactionDate']=='2016-01-28', product_col+['customerID']]"
   ]
  },
  {
   "cell_type": "code",
   "execution_count": null,
   "metadata": {
    "collapsed": false,
    "deletable": true,
    "editable": true
   },
   "outputs": [],
   "source": [
    "dfm = pd.merge(df_train_curr,df_train_5, how='left', on=['customerID'], suffixes=('', '_5'))\n",
    "dfm = pd.merge(dfm,df_train_4, how='left', on=['customerID'], suffixes=('', '_4'))\n",
    "dfm = pd.merge(dfm,df_train_3, how='left', on=['customerID'], suffixes=('', '_3'))\n",
    "dfm = pd.merge(dfm,df_train_2, how='left', on=['customerID'], suffixes=('', '_2'))\n",
    "dfm = pd.merge(dfm,df_train_1, how='left', on=['customerID'], suffixes=('', '_1'))"
   ]
  },
  {
   "cell_type": "code",
   "execution_count": null,
   "metadata": {
    "collapsed": false,
    "deletable": true,
    "editable": true
   },
   "outputs": [],
   "source": [
    "dfm.head()"
   ]
  },
  {
   "cell_type": "code",
   "execution_count": null,
   "metadata": {
    "collapsed": true,
    "deletable": true,
    "editable": true
   },
   "outputs": [],
   "source": [
    "prevcols = [col for col in dfm.columns if '.0_'+str(month-1) in col]\n",
    "currcols = [col for col in dfm.columns if '.0' in col[-5:]]"
   ]
  },
  {
   "cell_type": "code",
   "execution_count": null,
   "metadata": {
    "collapsed": false,
    "deletable": true,
    "editable": true
   },
   "outputs": [],
   "source": [
    "currcols = currcols[0:100]"
   ]
  },
  {
   "cell_type": "code",
   "execution_count": null,
   "metadata": {
    "collapsed": false,
    "deletable": true,
    "editable": true
   },
   "outputs": [],
   "source": [
    "all_product_col = [col for col in dfm.columns if '.0' in col]\n",
    "\n",
    "for col in all_product_col:\n",
    "    dfm[col].fillna(0, inplace=True)"
   ]
  },
  {
   "cell_type": "code",
   "execution_count": null,
   "metadata": {
    "collapsed": true,
    "deletable": true,
    "editable": true
   },
   "outputs": [],
   "source": [
    "for col in currcols:\n",
    "    dfm[col] = dfm[col] - dfm[col+'_'+str(month-1)]\n",
    "    dfm[col] = dfm[col].apply(lambda x: max(x,0))"
   ]
  },
  {
   "cell_type": "code",
   "execution_count": null,
   "metadata": {
    "collapsed": true,
    "deletable": true,
    "editable": true
   },
   "outputs": [],
   "source": [
    "dfm = dfm[dfm[currcols].sum(axis=1) >0]\n"
   ]
  },
  {
   "cell_type": "code",
   "execution_count": null,
   "metadata": {
    "collapsed": false,
    "deletable": true,
    "editable": true
   },
   "outputs": [],
   "source": [
    "print(dfm[currcols].sum(axis = 1).value_counts())\n"
   ]
  },
  {
   "cell_type": "code",
   "execution_count": null,
   "metadata": {
    "collapsed": false,
    "deletable": true,
    "editable": true
   },
   "outputs": [],
   "source": [
    "dfm"
   ]
  },
  {
   "cell_type": "code",
   "execution_count": null,
   "metadata": {
    "collapsed": false,
    "deletable": true,
    "editable": true
   },
   "outputs": [],
   "source": [
    "dfm = dfm.reset_index(drop=True) \n",
    "print(dfm.shape)"
   ]
  },
  {
   "cell_type": "code",
   "execution_count": null,
   "metadata": {
    "collapsed": false,
    "deletable": true,
    "editable": true
   },
   "outputs": [],
   "source": [
    "data = []\n",
    "\n",
    "for index, row in dfm.iterrows():\n",
    "    if index%1000 == 0:\n",
    "        print(index)\n",
    "        print('finish: ', time.strftime('%a %H:%M:%S'))\n",
    "    if row[currcols].sum() > 0:\n",
    "        for i,col in enumerate(currcols):\n",
    "            if row[col] == 1:\n",
    "                row['target'] = float(currcols.index(col))\n",
    "                data.append(list(row))\n",
    "                \n",
    "df_new = pd.DataFrame(data, columns = list(dfm.columns.values) + ['target'])"
   ]
  },
  {
   "cell_type": "code",
   "execution_count": null,
   "metadata": {
    "collapsed": true,
    "deletable": true,
    "editable": true
   },
   "outputs": [],
   "source": [
    "df_new.drop(currcols+['transactionDate'], axis=1, inplace=True)"
   ]
  },
  {
   "cell_type": "code",
   "execution_count": null,
   "metadata": {
    "collapsed": false,
    "deletable": true,
    "editable": true
   },
   "outputs": [],
   "source": [
    "df_new.shape\n"
   ]
  },
  {
   "cell_type": "code",
   "execution_count": null,
   "metadata": {
    "collapsed": false,
    "deletable": true,
    "editable": true
   },
   "outputs": [],
   "source": [
    "print(df_new['target'].value_counts())\n"
   ]
  },
  {
   "cell_type": "code",
   "execution_count": null,
   "metadata": {
    "collapsed": true,
    "deletable": true,
    "editable": true
   },
   "outputs": [],
   "source": [
    "df_new.to_csv('cleaned_data/DataMulticlass_'+ str(month) + '_withpast2.csv', index=False)\n"
   ]
  },
  {
   "cell_type": "code",
   "execution_count": null,
   "metadata": {
    "collapsed": true,
    "deletable": true,
    "editable": true
   },
   "outputs": [],
   "source": []
  }
 ],
 "metadata": {
  "anaconda-cloud": {},
  "kernelspec": {
   "display_name": "Python [conda env:aind-dog-copy]",
   "language": "python",
   "name": "conda-env-aind-dog-copy-py"
  },
  "language_info": {
   "codemirror_mode": {
    "name": "ipython",
    "version": 3
   },
   "file_extension": ".py",
   "mimetype": "text/x-python",
   "name": "python",
   "nbconvert_exporter": "python",
   "pygments_lexer": "ipython3",
   "version": "3.5.3"
  }
 },
 "nbformat": 4,
 "nbformat_minor": 2
}

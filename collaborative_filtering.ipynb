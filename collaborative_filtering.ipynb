{
 "cells": [
  {
   "cell_type": "code",
   "execution_count": 1,
   "metadata": {
    "collapsed": true
   },
   "outputs": [],
   "source": [
    "## load libraries\n",
    "import pandas as pd\n",
    "import numpy as np\n",
    "from sklearn.preprocessing import LabelEncoder\n",
    "import scipy.sparse as sps\n",
    "import warnings\n",
    "warnings.filterwarnings('ignore')\n",
    "from tqdm import tqdm"
   ]
  },
  {
   "cell_type": "code",
   "execution_count": 2,
   "metadata": {
    "collapsed": true
   },
   "outputs": [],
   "source": [
    "# load product and sample file\n",
    "products = pd.read_csv('products.csv')"
   ]
  },
  {
   "cell_type": "code",
   "execution_count": 3,
   "metadata": {
    "collapsed": true
   },
   "outputs": [],
   "source": [
    "sample = pd.read_csv('sampleSubmission.csv')\n"
   ]
  },
  {
   "cell_type": "code",
   "execution_count": 4,
   "metadata": {
    "collapsed": true
   },
   "outputs": [],
   "source": [
    "products['transactionDate'] = pd.to_datetime(products['transactionDate'])\n",
    "mask = (products['transactionDate'] >= '2016-12-01')\n",
    "products = products.loc[mask]"
   ]
  },
  {
   "cell_type": "code",
   "execution_count": 5,
   "metadata": {
    "collapsed": true
   },
   "outputs": [],
   "source": [
    "products.sort_values('transactionDate',inplace=True)\n",
    "products = products.reset_index(drop=True)"
   ]
  },
  {
   "cell_type": "code",
   "execution_count": 6,
   "metadata": {
    "collapsed": true
   },
   "outputs": [],
   "source": [
    "## take only those customers which are in sample submission file\n",
    "products_2 = products[products['customerID'].isin(sample['customerID'])]\n",
    "\n",
    "## remove missing values # 4\n",
    "products_2 = products_2[~pd.isnull(products_2['product_code'])]\n",
    "\n",
    "## convert type of product code\n",
    "products_2['product_code'] = products_2['product_code'].astype(np.int64)"
   ]
  },
  {
   "cell_type": "code",
   "execution_count": 8,
   "metadata": {
    "collapsed": false
   },
   "outputs": [
    {
     "data": {
      "text/html": [
       "<div>\n",
       "<style>\n",
       "    .dataframe thead tr:only-child th {\n",
       "        text-align: right;\n",
       "    }\n",
       "\n",
       "    .dataframe thead th {\n",
       "        text-align: left;\n",
       "    }\n",
       "\n",
       "    .dataframe tbody tr th {\n",
       "        vertical-align: top;\n",
       "    }\n",
       "</style>\n",
       "<table border=\"1\" class=\"dataframe\">\n",
       "  <thead>\n",
       "    <tr style=\"text-align: right;\">\n",
       "      <th></th>\n",
       "      <th>customerID</th>\n",
       "      <th>DOB</th>\n",
       "      <th>Gender</th>\n",
       "      <th>State</th>\n",
       "      <th>PinCode</th>\n",
       "      <th>transactionDate</th>\n",
       "      <th>store_code</th>\n",
       "      <th>store_description</th>\n",
       "      <th>till_no</th>\n",
       "      <th>transaction_number_by_till</th>\n",
       "      <th>promo_code</th>\n",
       "      <th>promotion_description</th>\n",
       "      <th>product_code</th>\n",
       "      <th>product_description</th>\n",
       "      <th>sale_price_after_promo</th>\n",
       "      <th>discountUsed</th>\n",
       "    </tr>\n",
       "  </thead>\n",
       "  <tbody>\n",
       "    <tr>\n",
       "      <th>0</th>\n",
       "      <td>BBID_20482218</td>\n",
       "      <td>1945-10-22</td>\n",
       "      <td>male</td>\n",
       "      <td>PUNJAB</td>\n",
       "      <td>141012</td>\n",
       "      <td>2016-12-01</td>\n",
       "      <td>3692</td>\n",
       "      <td>BB-LUDHIANA-FEROZEPUR-MF</td>\n",
       "      <td>7</td>\n",
       "      <td>65291</td>\n",
       "      <td>NONPROMO</td>\n",
       "      <td>NaN</td>\n",
       "      <td>108100362</td>\n",
       "      <td>ONION LOOSE</td>\n",
       "      <td>14.13</td>\n",
       "      <td>BBProfitClub,Payback</td>\n",
       "    </tr>\n",
       "    <tr>\n",
       "      <th>1</th>\n",
       "      <td>BBID_20411446</td>\n",
       "      <td>1964-11-20</td>\n",
       "      <td>female</td>\n",
       "      <td>MADHYA PRADESH</td>\n",
       "      <td>452001</td>\n",
       "      <td>2016-12-01</td>\n",
       "      <td>2906</td>\n",
       "      <td>BB-INDORE-TREASURE ISLAND</td>\n",
       "      <td>6</td>\n",
       "      <td>31320</td>\n",
       "      <td>NONPROMO</td>\n",
       "      <td>NaN</td>\n",
       "      <td>300255445</td>\n",
       "      <td>SAFAL FROZEN PEAS GREEN 600g</td>\n",
       "      <td>75.00</td>\n",
       "      <td>Payback</td>\n",
       "    </tr>\n",
       "    <tr>\n",
       "      <th>2</th>\n",
       "      <td>BBID_20411446</td>\n",
       "      <td>1964-11-20</td>\n",
       "      <td>female</td>\n",
       "      <td>MADHYA PRADESH</td>\n",
       "      <td>452001</td>\n",
       "      <td>2016-12-01</td>\n",
       "      <td>2906</td>\n",
       "      <td>BB-INDORE-TREASURE ISLAND</td>\n",
       "      <td>6</td>\n",
       "      <td>31320</td>\n",
       "      <td>NONPROMO</td>\n",
       "      <td>NaN</td>\n",
       "      <td>1000172126</td>\n",
       "      <td>PATANJALI BALM 25GM</td>\n",
       "      <td>40.00</td>\n",
       "      <td>Payback</td>\n",
       "    </tr>\n",
       "    <tr>\n",
       "      <th>3</th>\n",
       "      <td>BBID_20411446</td>\n",
       "      <td>1964-11-20</td>\n",
       "      <td>female</td>\n",
       "      <td>MADHYA PRADESH</td>\n",
       "      <td>452001</td>\n",
       "      <td>2016-12-01</td>\n",
       "      <td>2906</td>\n",
       "      <td>BB-INDORE-TREASURE ISLAND</td>\n",
       "      <td>6</td>\n",
       "      <td>31320</td>\n",
       "      <td>0001215948</td>\n",
       "      <td>IZ 6 RS OFF REG Health Oil</td>\n",
       "      <td>300551592</td>\n",
       "      <td>SUNDROP SUPERLITE SUN OIL PP 1L</td>\n",
       "      <td>184.00</td>\n",
       "      <td>Payback</td>\n",
       "    </tr>\n",
       "    <tr>\n",
       "      <th>4</th>\n",
       "      <td>BBID_20411446</td>\n",
       "      <td>1964-11-20</td>\n",
       "      <td>female</td>\n",
       "      <td>MADHYA PRADESH</td>\n",
       "      <td>452001</td>\n",
       "      <td>2016-12-01</td>\n",
       "      <td>2906</td>\n",
       "      <td>BB-INDORE-TREASURE ISLAND</td>\n",
       "      <td>6</td>\n",
       "      <td>31320</td>\n",
       "      <td>NONPROMO</td>\n",
       "      <td>NaN</td>\n",
       "      <td>1000446410</td>\n",
       "      <td>PATANJALI BLACK PEPPER WHOLE 100g</td>\n",
       "      <td>120.00</td>\n",
       "      <td>Payback</td>\n",
       "    </tr>\n",
       "  </tbody>\n",
       "</table>\n",
       "</div>"
      ],
      "text/plain": [
       "      customerID         DOB  Gender           State PinCode transactionDate  \\\n",
       "0  BBID_20482218  1945-10-22    male          PUNJAB  141012      2016-12-01   \n",
       "1  BBID_20411446  1964-11-20  female  MADHYA PRADESH  452001      2016-12-01   \n",
       "2  BBID_20411446  1964-11-20  female  MADHYA PRADESH  452001      2016-12-01   \n",
       "3  BBID_20411446  1964-11-20  female  MADHYA PRADESH  452001      2016-12-01   \n",
       "4  BBID_20411446  1964-11-20  female  MADHYA PRADESH  452001      2016-12-01   \n",
       "\n",
       "   store_code          store_description  till_no  transaction_number_by_till  \\\n",
       "0        3692   BB-LUDHIANA-FEROZEPUR-MF        7                       65291   \n",
       "1        2906  BB-INDORE-TREASURE ISLAND        6                       31320   \n",
       "2        2906  BB-INDORE-TREASURE ISLAND        6                       31320   \n",
       "3        2906  BB-INDORE-TREASURE ISLAND        6                       31320   \n",
       "4        2906  BB-INDORE-TREASURE ISLAND        6                       31320   \n",
       "\n",
       "   promo_code       promotion_description  product_code  \\\n",
       "0    NONPROMO                         NaN     108100362   \n",
       "1    NONPROMO                         NaN     300255445   \n",
       "2    NONPROMO                         NaN    1000172126   \n",
       "3  0001215948  IZ 6 RS OFF REG Health Oil     300551592   \n",
       "4    NONPROMO                         NaN    1000446410   \n",
       "\n",
       "                 product_description  sale_price_after_promo  \\\n",
       "0                        ONION LOOSE                   14.13   \n",
       "1       SAFAL FROZEN PEAS GREEN 600g                   75.00   \n",
       "2                PATANJALI BALM 25GM                   40.00   \n",
       "3    SUNDROP SUPERLITE SUN OIL PP 1L                  184.00   \n",
       "4  PATANJALI BLACK PEPPER WHOLE 100g                  120.00   \n",
       "\n",
       "           discountUsed  \n",
       "0  BBProfitClub,Payback  \n",
       "1               Payback  \n",
       "2               Payback  \n",
       "3               Payback  \n",
       "4               Payback  "
      ]
     },
     "execution_count": 8,
     "metadata": {},
     "output_type": "execute_result"
    }
   ],
   "source": [
    "products_2.head()"
   ]
  },
  {
   "cell_type": "code",
   "execution_count": 9,
   "metadata": {
    "collapsed": true
   },
   "outputs": [],
   "source": [
    "## these customers are not in train, so we'll predict None for them at last\n",
    "misfit_customers = list(set(sample['customerID']) - set(products_2['customerID']))"
   ]
  },
  {
   "cell_type": "code",
   "execution_count": 10,
   "metadata": {
    "collapsed": true
   },
   "outputs": [],
   "source": [
    "## create product list by customers\n",
    "products_2 = products_2.groupby('customerID')['product_code'].apply(lambda x: x.tolist()).reset_index()"
   ]
  },
  {
   "cell_type": "code",
   "execution_count": 12,
   "metadata": {
    "collapsed": false
   },
   "outputs": [
    {
     "data": {
      "text/html": [
       "<div>\n",
       "<style>\n",
       "    .dataframe thead tr:only-child th {\n",
       "        text-align: right;\n",
       "    }\n",
       "\n",
       "    .dataframe thead th {\n",
       "        text-align: left;\n",
       "    }\n",
       "\n",
       "    .dataframe tbody tr th {\n",
       "        vertical-align: top;\n",
       "    }\n",
       "</style>\n",
       "<table border=\"1\" class=\"dataframe\">\n",
       "  <thead>\n",
       "    <tr style=\"text-align: right;\">\n",
       "      <th></th>\n",
       "      <th>customerID</th>\n",
       "      <th>product_code</th>\n",
       "    </tr>\n",
       "  </thead>\n",
       "  <tbody>\n",
       "    <tr>\n",
       "      <th>0</th>\n",
       "      <td>BBID_20410000</td>\n",
       "      <td>[300600921, 300667170, 620001258]</td>\n",
       "    </tr>\n",
       "    <tr>\n",
       "      <th>1</th>\n",
       "      <td>BBID_20410002</td>\n",
       "      <td>[1000601263, 108100134, 530000111, 1000230660,...</td>\n",
       "    </tr>\n",
       "    <tr>\n",
       "      <th>2</th>\n",
       "      <td>BBID_20410006</td>\n",
       "      <td>[300481740, 300144674, 108024362, 108032048, 1...</td>\n",
       "    </tr>\n",
       "    <tr>\n",
       "      <th>3</th>\n",
       "      <td>BBID_20410007</td>\n",
       "      <td>[1000001730, 300413862, 1000214904, 1000626523...</td>\n",
       "    </tr>\n",
       "    <tr>\n",
       "      <th>4</th>\n",
       "      <td>BBID_20410012</td>\n",
       "      <td>[1000479471003, 300989207, 1000479347004, 1000...</td>\n",
       "    </tr>\n",
       "  </tbody>\n",
       "</table>\n",
       "</div>"
      ],
      "text/plain": [
       "      customerID                                       product_code\n",
       "0  BBID_20410000                  [300600921, 300667170, 620001258]\n",
       "1  BBID_20410002  [1000601263, 108100134, 530000111, 1000230660,...\n",
       "2  BBID_20410006  [300481740, 300144674, 108024362, 108032048, 1...\n",
       "3  BBID_20410007  [1000001730, 300413862, 1000214904, 1000626523...\n",
       "4  BBID_20410012  [1000479471003, 300989207, 1000479347004, 1000..."
      ]
     },
     "execution_count": 12,
     "metadata": {},
     "output_type": "execute_result"
    }
   ],
   "source": [
    "products_2.head()## remove duplicate products\n",
    "products_2['product_code'] = products_2['product_code'].map(lambda x: list(set(x)))"
   ]
  },
  {
   "cell_type": "code",
   "execution_count": 13,
   "metadata": {
    "collapsed": true
   },
   "outputs": [],
   "source": [
    "## remove duplicate products\n",
    "products_2['product_code'] = products_2['product_code'].map(lambda x: list(set(x)))"
   ]
  },
  {
   "cell_type": "code",
   "execution_count": 14,
   "metadata": {
    "collapsed": true
   },
   "outputs": [],
   "source": [
    "## fix product max len to 20 (we'll pick the last 20 i.e most recent ones)\n",
    "products_2['product_code'] = products_2['product_code'].map(lambda x: x[-20:])"
   ]
  },
  {
   "cell_type": "code",
   "execution_count": 15,
   "metadata": {
    "collapsed": true
   },
   "outputs": [],
   "source": [
    "### create a list of customers & products\n",
    "\n",
    "customerIDs = []\n",
    "product_codes = []\n",
    "\n",
    "for index, row in products_2.iterrows():\n",
    "    #if index % 10 == 0:\n",
    "    #    print (index)\n",
    "    ls_len = len(row['product_code'])\n",
    "    customerIDs.extend(np.repeat(row['customerID'], ls_len))\n",
    "    product_codes.extend(row['product_code'])"
   ]
  },
  {
   "cell_type": "code",
   "execution_count": 17,
   "metadata": {
    "collapsed": false
   },
   "outputs": [],
   "source": [
    "## encode values \n",
    "\n",
    "from sklearn.preprocessing import LabelEncoder\n",
    "\n",
    "lbl = LabelEncoder() ## for customers\n",
    "customerIDs = lbl.fit_transform(customerIDs)\n",
    " \n",
    "lbl2 = LabelEncoder() ## for products\n",
    "product_codes = lbl2.fit_transform(product_codes)"
   ]
  },
  {
   "cell_type": "code",
   "execution_count": 20,
   "metadata": {
    "collapsed": false
   },
   "outputs": [],
   "source": [
    "n_unique_users = len(set(customerIDs))\n",
    "n_unique_products = len(set(product_codes))\n",
    "\n",
    "row = customerIDs\n",
    "col = product_codes\n",
    "\n",
    "vals = np.repeat(1, len(row))\n",
    "\n",
    "## this matrix has information about a user bought which all products.\n",
    "user_product_matrix = sps.csr_matrix((vals, (row, col)), shape=(n_unique_users, n_unique_products))\n",
    "\n",
    "## this matrix has information a product got bought along with which other products, and how many times\n",
    "product_cooccurence_matrix = (user_product_matrix.T * user_product_matrix)\n",
    "\n",
    "## set diagonal equals to zero since we are not interested in knowing the count of a product with itself\n",
    "product_cooccurence_matrix.setdiag(np.repeat(0, product_cooccurence_matrix.shape[0]))"
   ]
  },
  {
   "cell_type": "code",
   "execution_count": 21,
   "metadata": {
    "collapsed": true
   },
   "outputs": [],
   "source": [
    "## create a data frame of encoded values\n",
    "product_summary = pd.DataFrame({'customerID':customerIDs, 'product_code':product_codes})\n",
    "product_summary = product_summary.groupby('customerID')['product_code'].agg(lambda x:x.tolist()).reset_index().rename(columns = {0:'product_collection'})"
   ]
  },
  {
   "cell_type": "code",
   "execution_count": 22,
   "metadata": {
    "collapsed": false
   },
   "outputs": [
    {
     "data": {
      "text/html": [
       "<div>\n",
       "<style>\n",
       "    .dataframe thead tr:only-child th {\n",
       "        text-align: right;\n",
       "    }\n",
       "\n",
       "    .dataframe thead th {\n",
       "        text-align: left;\n",
       "    }\n",
       "\n",
       "    .dataframe tbody tr th {\n",
       "        vertical-align: top;\n",
       "    }\n",
       "</style>\n",
       "<table border=\"1\" class=\"dataframe\">\n",
       "  <thead>\n",
       "    <tr style=\"text-align: right;\">\n",
       "      <th></th>\n",
       "      <th>customerID</th>\n",
       "      <th>product_collection</th>\n",
       "    </tr>\n",
       "  </thead>\n",
       "  <tbody>\n",
       "    <tr>\n",
       "      <th>0</th>\n",
       "      <td>0</td>\n",
       "      <td>[7239, 5039, 5373]</td>\n",
       "    </tr>\n",
       "    <tr>\n",
       "      <th>1</th>\n",
       "      <td>1</td>\n",
       "      <td>[5343, 4375, 4376, 3074, 11370, 2418, 12780, 6...</td>\n",
       "    </tr>\n",
       "    <tr>\n",
       "      <th>2</th>\n",
       "      <td>2</td>\n",
       "      <td>[3366, 7470, 8830, 2559, 1655, 1656, 4559, 217...</td>\n",
       "    </tr>\n",
       "    <tr>\n",
       "      <th>3</th>\n",
       "      <td>3</td>\n",
       "      <td>[6199, 3122, 2503, 5815, 14162, 4457, 32611, 7...</td>\n",
       "    </tr>\n",
       "    <tr>\n",
       "      <th>4</th>\n",
       "      <td>4</td>\n",
       "      <td>[5815, 31095, 37838, 5816, 37150, 37883, 34691...</td>\n",
       "    </tr>\n",
       "  </tbody>\n",
       "</table>\n",
       "</div>"
      ],
      "text/plain": [
       "   customerID                                 product_collection\n",
       "0           0                                 [7239, 5039, 5373]\n",
       "1           1  [5343, 4375, 4376, 3074, 11370, 2418, 12780, 6...\n",
       "2           2  [3366, 7470, 8830, 2559, 1655, 1656, 4559, 217...\n",
       "3           3  [6199, 3122, 2503, 5815, 14162, 4457, 32611, 7...\n",
       "4           4  [5815, 31095, 37838, 5816, 37150, 37883, 34691..."
      ]
     },
     "execution_count": 22,
     "metadata": {},
     "output_type": "execute_result"
    }
   ],
   "source": [
    "product_summary.head()"
   ]
  },
  {
   "cell_type": "code",
   "execution_count": 23,
   "metadata": {
    "collapsed": true
   },
   "outputs": [],
   "source": [
    "## how many recommendation to make\n",
    "def take_top_(x):\n",
    "    if x >= 20:\n",
    "        return 1\n",
    "    else:\n",
    "        if x < 20:\n",
    "            return int(np.round(20/x))\n",
    "        \n",
    "## get count of products per customer\n",
    "product_summary['len_collection'] = product_summary['product_collection'].map(len)\n",
    "\n",
    "## if a customer has 20 products in the list, we'll take 1 top most product per each product\n",
    "product_summary['take_top'] = product_summary['len_collection'].map(lambda x: take_top_(x))"
   ]
  },
  {
   "cell_type": "code",
   "execution_count": 24,
   "metadata": {
    "collapsed": false
   },
   "outputs": [
    {
     "data": {
      "text/html": [
       "<div>\n",
       "<style>\n",
       "    .dataframe thead tr:only-child th {\n",
       "        text-align: right;\n",
       "    }\n",
       "\n",
       "    .dataframe thead th {\n",
       "        text-align: left;\n",
       "    }\n",
       "\n",
       "    .dataframe tbody tr th {\n",
       "        vertical-align: top;\n",
       "    }\n",
       "</style>\n",
       "<table border=\"1\" class=\"dataframe\">\n",
       "  <thead>\n",
       "    <tr style=\"text-align: right;\">\n",
       "      <th></th>\n",
       "      <th>customerID</th>\n",
       "      <th>product_collection</th>\n",
       "      <th>len_collection</th>\n",
       "      <th>take_top</th>\n",
       "    </tr>\n",
       "  </thead>\n",
       "  <tbody>\n",
       "    <tr>\n",
       "      <th>0</th>\n",
       "      <td>0</td>\n",
       "      <td>[7239, 5039, 5373]</td>\n",
       "      <td>3</td>\n",
       "      <td>7</td>\n",
       "    </tr>\n",
       "    <tr>\n",
       "      <th>1</th>\n",
       "      <td>1</td>\n",
       "      <td>[5343, 4375, 4376, 3074, 11370, 2418, 12780, 6...</td>\n",
       "      <td>20</td>\n",
       "      <td>1</td>\n",
       "    </tr>\n",
       "    <tr>\n",
       "      <th>2</th>\n",
       "      <td>2</td>\n",
       "      <td>[3366, 7470, 8830, 2559, 1655, 1656, 4559, 217...</td>\n",
       "      <td>12</td>\n",
       "      <td>2</td>\n",
       "    </tr>\n",
       "    <tr>\n",
       "      <th>3</th>\n",
       "      <td>3</td>\n",
       "      <td>[6199, 3122, 2503, 5815, 14162, 4457, 32611, 7...</td>\n",
       "      <td>20</td>\n",
       "      <td>1</td>\n",
       "    </tr>\n",
       "    <tr>\n",
       "      <th>4</th>\n",
       "      <td>4</td>\n",
       "      <td>[5815, 31095, 37838, 5816, 37150, 37883, 34691...</td>\n",
       "      <td>16</td>\n",
       "      <td>1</td>\n",
       "    </tr>\n",
       "  </tbody>\n",
       "</table>\n",
       "</div>"
      ],
      "text/plain": [
       "   customerID                                 product_collection  \\\n",
       "0           0                                 [7239, 5039, 5373]   \n",
       "1           1  [5343, 4375, 4376, 3074, 11370, 2418, 12780, 6...   \n",
       "2           2  [3366, 7470, 8830, 2559, 1655, 1656, 4559, 217...   \n",
       "3           3  [6199, 3122, 2503, 5815, 14162, 4457, 32611, 7...   \n",
       "4           4  [5815, 31095, 37838, 5816, 37150, 37883, 34691...   \n",
       "\n",
       "   len_collection  take_top  \n",
       "0               3         7  \n",
       "1              20         1  \n",
       "2              12         2  \n",
       "3              20         1  \n",
       "4              16         1  "
      ]
     },
     "execution_count": 24,
     "metadata": {},
     "output_type": "execute_result"
    }
   ],
   "source": [
    "product_summary.head()"
   ]
  },
  {
   "cell_type": "code",
   "execution_count": 25,
   "metadata": {
    "collapsed": true
   },
   "outputs": [],
   "source": [
    "## recommendation function\n",
    "def recommend_affinity(user):\n",
    "    \n",
    "    products_ = product_summary[product_summary['customerID'] == user]['product_collection'].iloc[0] # returns list\n",
    "    take_top_ = product_summary[product_summary['customerID'] == user]['take_top'].iloc[0]\n",
    "    \n",
    "    recs = []\n",
    "    \n",
    "    if take_top_ == 0:\n",
    "        return recs\n",
    "    \n",
    "    ## here we get the list of products which were bought the maximum number of times along with a particular productr\n",
    "    for tt in products_:\n",
    "        s = np.squeeze(np.asarray(product_cooccurence_matrix[tt].todense())) ## list of products bought with counts` with that product\n",
    "        ll = s.argsort()[-int(take_top_):][::-1]\n",
    "        recs.append(list(ll))\n",
    "\n",
    "    recs = list(np.vstack(recs).flatten('F'))\n",
    " \n",
    "    if not recs:\n",
    "        return recs\n",
    "    \n",
    "    return recs"
   ]
  },
  {
   "cell_type": "code",
   "execution_count": null,
   "metadata": {
    "collapsed": true
   },
   "outputs": [],
   "source": [
    "## recommendation for customers\n",
    "unique_customers = []\n",
    "\n",
    "for i in sample['customerID']:\n",
    "    if i not in misfit_customers:\n",
    "        unique_customers.append(i)\n",
    "\n",
    "unique_customers = lbl.fit_transform(unique_customers)"
   ]
  },
  {
   "cell_type": "code",
   "execution_count": null,
   "metadata": {
    "collapsed": false
   },
   "outputs": [
    {
     "name": "stderr",
     "output_type": "stream",
     "text": [
      "  1%|▊                                                           | 354/25754 [02:39<3:37:48,  1.94it/s]"
     ]
    }
   ],
   "source": [
    "from collections import defaultdict\n",
    "out_dict = defaultdict(list)\n",
    "\n",
    "nulls = []\n",
    "\n",
    "for user in tqdm(unique_customers): #[:50]): ## i took first 50 customers. \n",
    "    rec = recommend_affinity(user)\n",
    "    if not rec:\n",
    "        nulls.append(user)\n",
    "    out_dict[user] = rec\n",
    "#     if i% 10 == 0:\n",
    "#         print(i)"
   ]
  },
  {
   "cell_type": "code",
   "execution_count": null,
   "metadata": {
    "collapsed": true
   },
   "outputs": [],
   "source": [
    "## get unique items per customer\n",
    "from collections import defaultdict\n",
    "\n",
    "out_dict_2 = defaultdict(list)\n",
    "\n",
    "for k,v in out_dict.items():\n",
    "    out_dict_2[k] = list(set(v))"
   ]
  }
 ],
 "metadata": {
  "kernelspec": {
   "display_name": "Python [conda env:aind-dog-copy]",
   "language": "python",
   "name": "conda-env-aind-dog-copy-py"
  },
  "language_info": {
   "codemirror_mode": {
    "name": "ipython",
    "version": 3
   },
   "file_extension": ".py",
   "mimetype": "text/x-python",
   "name": "python",
   "nbconvert_exporter": "python",
   "pygments_lexer": "ipython3",
   "version": "3.5.3"
  }
 },
 "nbformat": 4,
 "nbformat_minor": 2
}
